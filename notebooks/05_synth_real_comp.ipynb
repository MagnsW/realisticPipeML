{
 "cells": [
  {
   "cell_type": "code",
   "execution_count": 1,
   "metadata": {
    "collapsed": true
   },
   "outputs": [],
   "source": [
    "import scipy.io\n",
    "import numpy as np\n",
    "import pandas as pd\n",
    "from matplotlib import pyplot as plt\n",
    "import seaborn as sns\n",
    "\n",
    "from sklearn.model_selection import train_test_split\n",
    "from sklearn.preprocessing import MinMaxScaler\n",
    "\n",
    "from tensorflow.keras.models import Sequential\n",
    "from tensorflow.keras.layers import Dense\n",
    "from tensorflow.keras import layers\n",
    "from tensorflow import keras\n",
    "\n",
    "from pathlib import Path\n",
    "from realisticpipeml import read_data"
   ]
  },
  {
   "cell_type": "code",
   "execution_count": 2,
   "outputs": [],
   "source": [
    "#mode = 'Timelapse' # Use timelapse data for training and prediction\n",
    "mode = 'Instant' # Use single acquisition for training and prediction\n",
    "dynamic_nn = False # Automaticly scale network and encoding dim to size of input\n",
    "\n",
    "sample_save = False # Save samples (only relevant to timelapse)\n",
    "sample_load = True # Load samples (only relevant to timelapse)\n",
    "\n",
    "autoencoder_save = False # Save the autoencoder\n",
    "autoencoder_load = True # Load the autoencoder (to avoid rerunning)\n",
    "#sensorindex = [0, 1, 2, 3, 4, 5, 6, 7, 8, 9, 10, 11, 12] # Index of sensors to use\n",
    "#sensorindex = [0, 3, 9, 12] # Index of sensors to use\n",
    "#sensorindex = [0, 12]\n",
    "sensorindex = [1, 2, 3, 4, 5, 6, 7, 8, 9, 10, 11]\n",
    "\n",
    "timesamples = 640 # Number of time samples used in training. Fast time window length.\n",
    "\n",
    "lastacq_only = True # Keep only last acquisition for training. Only relevant for Timelapse mode"
   ],
   "metadata": {
    "collapsed": false,
    "pycharm": {
     "name": "#%%\n"
    }
   }
  },
  {
   "cell_type": "code",
   "execution_count": 5,
   "outputs": [],
   "source": [
    "#clock positions\n",
    "mat = scipy.io.loadmat(Path().joinpath('..','data', 'input_simulated', 'trace_pos_clock_v7_rot_overlap.mat'))\n",
    "X = mat['trace_pos_clock'].astype('float32')"
   ],
   "metadata": {
    "collapsed": false,
    "pycharm": {
     "name": "#%%\n"
    }
   }
  },
  {
   "cell_type": "code",
   "execution_count": 18,
   "outputs": [],
   "source": [
    "# Fine sampling input\n",
    "mat = scipy.io.loadmat(Path().joinpath('..', 'data', 'input_simulated', 'traces_fine_v7.mat'))\n",
    "X = mat['traces'].astype('float32')\n",
    "X = np.expand_dims(X, axis=0)\n",
    "X = X[:,:,::6]"
   ],
   "metadata": {
    "collapsed": false,
    "pycharm": {
     "name": "#%%\n"
    }
   }
  },
  {
   "cell_type": "code",
   "execution_count": 19,
   "outputs": [
    {
     "data": {
      "text/plain": "(1, 750, 13)"
     },
     "execution_count": 19,
     "metadata": {},
     "output_type": "execute_result"
    }
   ],
   "source": [
    "X.shape"
   ],
   "metadata": {
    "collapsed": false,
    "pycharm": {
     "name": "#%%\n"
    }
   }
  },
  {
   "cell_type": "code",
   "execution_count": 20,
   "outputs": [
    {
     "data": {
      "text/plain": "(dtype('float32'), (1, 13, 750))"
     },
     "execution_count": 20,
     "metadata": {},
     "output_type": "execute_result"
    }
   ],
   "source": [
    "X = np.swapaxes(X, 2, 1)\n",
    "X.dtype, X.shape"
   ],
   "metadata": {
    "collapsed": false,
    "pycharm": {
     "name": "#%%\n"
    }
   }
  },
  {
   "cell_type": "code",
   "execution_count": 21,
   "outputs": [
    {
     "data": {
      "text/plain": "<Figure size 576x576 with 2 Axes>",
      "image/png": "[encoded data removed]"
     },
     "metadata": {},
     "output_type": "display_data"
    }
   ],
   "source": [
    "sns.set_style(\"white\")\n",
    "plt.figure(figsize=(8,8))\n",
    "\n",
    "plt.pcolormesh(X[0,:,:].T, cmap='gray')\n",
    "plt.gca().invert_yaxis()\n",
    "plt.colorbar()\n",
    "\n",
    "\n",
    "plt.show()"
   ],
   "metadata": {
    "collapsed": false,
    "pycharm": {
     "name": "#%%\n"
    }
   }
  },
  {
   "cell_type": "code",
   "execution_count": 22,
   "outputs": [],
   "source": [
    "realdatapath = '../data/input_real/Waveforms_clock_pos/'"
   ],
   "metadata": {
    "collapsed": false,
    "pycharm": {
     "name": "#%%\n"
    }
   }
  },
  {
   "cell_type": "code",
   "execution_count": 23,
   "outputs": [
    {
     "name": "stdout",
     "output_type": "stream",
     "text": [
      "../data/input_real/Waveforms_clock_pos/\n"
     ]
    }
   ],
   "source": [
    "print(realdatapath)"
   ],
   "metadata": {
    "collapsed": false,
    "pycharm": {
     "name": "#%%\n"
    }
   }
  },
  {
   "cell_type": "code",
   "execution_count": 24,
   "outputs": [
    {
     "name": "stdout",
     "output_type": "stream",
     "text": [
      "20220210-01oc-040kHz.csv\n",
      "20220210-01oc-041kHz.csv\n",
      "20220210-01oc-042kHz.csv\n",
      "20220210-01oc-043kHz.csv\n",
      "20220210-01oc-044kHz.csv\n",
      "20220210-01oc-045kHz.csv\n",
      "20220210-01oc-046kHz.csv\n",
      "20220210-01oc-047kHz.csv\n",
      "20220210-01oc-048kHz.csv\n",
      "20220210-01oc-049kHz.csv\n",
      "20220210-01oc-050kHz.csv\n",
      "20220210-01oc-051kHz.csv\n",
      "20220210-01oc-052kHz.csv\n",
      "20220210-01oc-053kHz.csv\n",
      "20220210-01oc-054kHz.csv\n",
      "20220210-01oc-055kHz.csv\n",
      "20220210-01oc-056kHz.csv\n",
      "20220210-01oc-057kHz.csv\n",
      "20220210-01oc-058kHz.csv\n",
      "20220210-01oc-059kHz.csv\n",
      "20220210-01oc-060kHz.csv\n",
      "20220210-01oc-061kHz.csv\n",
      "20220210-01oc-062kHz.csv\n",
      "20220210-01oc-063kHz.csv\n",
      "20220210-01oc-064kHz.csv\n",
      "20220210-01oc-065kHz.csv\n",
      "20220210-01oc-066kHz.csv\n",
      "20220210-01oc-067kHz.csv\n",
      "20220210-01oc-068kHz.csv\n",
      "20220210-01oc-069kHz.csv\n",
      "20220210-01oc-070kHz.csv\n",
      "20220210-01oc-071kHz.csv\n",
      "20220210-01oc-072kHz.csv\n",
      "20220210-01oc-073kHz.csv\n",
      "20220210-01oc-074kHz.csv\n",
      "20220210-01oc-075kHz.csv\n",
      "20220210-01oc-076kHz.csv\n",
      "20220210-01oc-077kHz.csv\n",
      "20220210-01oc-078kHz.csv\n",
      "20220210-01oc-079kHz.csv\n",
      "20220210-01oc-080kHz.csv\n",
      "20220210-02oc-040kHz.csv\n",
      "20220210-02oc-041kHz.csv\n",
      "20220210-02oc-042kHz.csv\n",
      "20220210-02oc-043kHz.csv\n",
      "20220210-02oc-044kHz.csv\n",
      "20220210-02oc-045kHz.csv\n",
      "20220210-02oc-046kHz.csv\n",
      "20220210-02oc-047kHz.csv\n",
      "20220210-02oc-048kHz.csv\n",
      "20220210-02oc-049kHz.csv\n",
      "20220210-02oc-050kHz.csv\n",
      "20220210-02oc-051kHz.csv\n",
      "20220210-02oc-052kHz.csv\n",
      "20220210-02oc-053kHz.csv\n",
      "20220210-02oc-054kHz.csv\n",
      "20220210-02oc-055kHz.csv\n",
      "20220210-02oc-056kHz.csv\n",
      "20220210-02oc-057kHz.csv\n",
      "20220210-02oc-058kHz.csv\n",
      "20220210-02oc-059kHz.csv\n",
      "20220210-02oc-060kHz.csv\n",
      "20220210-02oc-061kHz.csv\n",
      "20220210-02oc-062kHz.csv\n",
      "20220210-02oc-063kHz.csv\n",
      "20220210-02oc-064kHz.csv\n",
      "20220210-02oc-065kHz.csv\n",
      "20220210-02oc-066kHz.csv\n",
      "20220210-02oc-067kHz.csv\n",
      "20220210-02oc-068kHz.csv\n",
      "20220210-02oc-069kHz.csv\n",
      "20220210-02oc-070kHz.csv\n",
      "20220210-02oc-071kHz.csv\n",
      "20220210-02oc-072kHz.csv\n",
      "20220210-02oc-073kHz.csv\n",
      "20220210-02oc-074kHz.csv\n",
      "20220210-02oc-075kHz.csv\n",
      "20220210-02oc-076kHz.csv\n",
      "20220210-02oc-077kHz.csv\n",
      "20220210-02oc-078kHz.csv\n",
      "20220210-02oc-079kHz.csv\n",
      "20220210-02oc-080kHz.csv\n",
      "20220210-03oc-040kHz.csv\n",
      "20220210-03oc-041kHz.csv\n",
      "20220210-03oc-042kHz.csv\n",
      "20220210-03oc-043kHz.csv\n",
      "20220210-03oc-044kHz.csv\n",
      "20220210-03oc-045kHz.csv\n",
      "20220210-03oc-046kHz.csv\n",
      "20220210-03oc-047kHz.csv\n",
      "20220210-03oc-048kHz.csv\n",
      "20220210-03oc-049kHz.csv\n",
      "20220210-03oc-050kHz.csv\n",
      "20220210-03oc-051kHz.csv\n",
      "20220210-03oc-052kHz.csv\n",
      "20220210-03oc-053kHz.csv\n",
      "20220210-03oc-054kHz.csv\n",
      "20220210-03oc-055kHz.csv\n",
      "20220210-03oc-056kHz.csv\n",
      "20220210-03oc-057kHz.csv\n",
      "20220210-03oc-058kHz.csv\n",
      "20220210-03oc-059kHz.csv\n",
      "20220210-03oc-060kHz.csv\n",
      "20220210-03oc-061kHz.csv\n",
      "20220210-03oc-062kHz.csv\n",
      "20220210-03oc-063kHz.csv\n",
      "20220210-03oc-064kHz.csv\n",
      "20220210-03oc-065kHz.csv\n",
      "20220210-03oc-066kHz.csv\n",
      "20220210-03oc-067kHz.csv\n",
      "20220210-03oc-068kHz.csv\n",
      "20220210-03oc-069kHz.csv\n",
      "20220210-03oc-070kHz.csv\n",
      "20220210-03oc-071kHz.csv\n",
      "20220210-03oc-072kHz.csv\n",
      "20220210-03oc-073kHz.csv\n",
      "20220210-03oc-074kHz.csv\n",
      "20220210-03oc-075kHz.csv\n",
      "20220210-03oc-076kHz.csv\n",
      "20220210-03oc-077kHz.csv\n",
      "20220210-03oc-078kHz.csv\n",
      "20220210-03oc-079kHz.csv\n",
      "20220210-03oc-080kHz.csv\n",
      "20220210-04oc-040kHz.csv\n",
      "20220210-04oc-041kHz.csv\n",
      "20220210-04oc-042kHz.csv\n",
      "20220210-04oc-043kHz.csv\n",
      "20220210-04oc-044kHz.csv\n",
      "20220210-04oc-045kHz.csv\n",
      "20220210-04oc-046kHz.csv\n",
      "20220210-04oc-047kHz.csv\n",
      "20220210-04oc-048kHz.csv\n",
      "20220210-04oc-049kHz.csv\n",
      "20220210-04oc-050kHz.csv\n",
      "20220210-04oc-051kHz.csv\n",
      "20220210-04oc-052kHz.csv\n",
      "20220210-04oc-053kHz.csv\n",
      "20220210-04oc-054kHz.csv\n",
      "20220210-04oc-055kHz.csv\n",
      "20220210-04oc-056kHz.csv\n",
      "20220210-04oc-057kHz.csv\n",
      "20220210-04oc-058kHz.csv\n",
      "20220210-04oc-059kHz.csv\n",
      "20220210-04oc-060kHz.csv\n",
      "20220210-04oc-061kHz.csv\n",
      "20220210-04oc-062kHz.csv\n",
      "20220210-04oc-063kHz.csv\n",
      "20220210-04oc-064kHz.csv\n",
      "20220210-04oc-065kHz.csv\n",
      "20220210-04oc-066kHz.csv\n",
      "20220210-04oc-067kHz.csv\n",
      "20220210-04oc-068kHz.csv\n",
      "20220210-04oc-069kHz.csv\n",
      "20220210-04oc-070kHz.csv\n",
      "20220210-04oc-071kHz.csv\n",
      "20220210-04oc-072kHz.csv\n",
      "20220210-04oc-073kHz.csv\n",
      "20220210-04oc-074kHz.csv\n",
      "20220210-04oc-075kHz.csv\n",
      "20220210-04oc-076kHz.csv\n",
      "20220210-04oc-077kHz.csv\n",
      "20220210-04oc-078kHz.csv\n",
      "20220210-04oc-079kHz.csv\n",
      "20220210-04oc-080kHz.csv\n",
      "20220210-05oc-040kHz.csv\n",
      "20220210-05oc-041kHz.csv\n",
      "20220210-05oc-042kHz.csv\n",
      "20220210-05oc-043kHz.csv\n",
      "20220210-05oc-044kHz.csv\n",
      "20220210-05oc-045kHz.csv\n",
      "20220210-05oc-046kHz.csv\n",
      "20220210-05oc-047kHz.csv\n",
      "20220210-05oc-048kHz.csv\n",
      "20220210-05oc-049kHz.csv\n",
      "20220210-05oc-050kHz.csv\n",
      "20220210-05oc-051kHz.csv\n",
      "20220210-05oc-052kHz.csv\n",
      "20220210-05oc-053kHz.csv\n",
      "20220210-05oc-054kHz.csv\n",
      "20220210-05oc-055kHz.csv\n",
      "20220210-05oc-056kHz.csv\n",
      "20220210-05oc-057kHz.csv\n",
      "20220210-05oc-058kHz.csv\n",
      "20220210-05oc-059kHz.csv\n",
      "20220210-05oc-060kHz.csv\n",
      "20220210-05oc-061kHz.csv\n",
      "20220210-05oc-062kHz.csv\n",
      "20220210-05oc-063kHz.csv\n",
      "20220210-05oc-064kHz.csv\n",
      "20220210-05oc-065kHz.csv\n",
      "20220210-05oc-066kHz.csv\n",
      "20220210-05oc-067kHz.csv\n",
      "20220210-05oc-068kHz.csv\n",
      "20220210-05oc-069kHz.csv\n",
      "20220210-05oc-070kHz.csv\n",
      "20220210-05oc-071kHz.csv\n",
      "20220210-05oc-072kHz.csv\n",
      "20220210-05oc-073kHz.csv\n",
      "20220210-05oc-074kHz.csv\n",
      "20220210-05oc-075kHz.csv\n",
      "20220210-05oc-076kHz.csv\n",
      "20220210-05oc-077kHz.csv\n",
      "20220210-05oc-078kHz.csv\n",
      "20220210-05oc-079kHz.csv\n",
      "20220210-05oc-080kHz.csv\n",
      "20220210-06oc-040kHz.csv\n",
      "20220210-06oc-041kHz.csv\n",
      "20220210-06oc-042kHz.csv\n",
      "20220210-06oc-043kHz.csv\n",
      "20220210-06oc-044kHz.csv\n",
      "20220210-06oc-045kHz.csv\n",
      "20220210-06oc-046kHz.csv\n",
      "20220210-06oc-047kHz.csv\n",
      "20220210-06oc-048kHz.csv\n",
      "20220210-06oc-049kHz.csv\n",
      "20220210-06oc-050kHz.csv\n",
      "20220210-06oc-051kHz.csv\n",
      "20220210-06oc-052kHz.csv\n",
      "20220210-06oc-053kHz.csv\n",
      "20220210-06oc-054kHz.csv\n",
      "20220210-06oc-055kHz.csv\n",
      "20220210-06oc-056kHz.csv\n",
      "20220210-06oc-057kHz.csv\n",
      "20220210-06oc-058kHz.csv\n",
      "20220210-06oc-059kHz.csv\n",
      "20220210-06oc-060kHz.csv\n",
      "20220210-06oc-061kHz.csv\n",
      "20220210-06oc-062kHz.csv\n",
      "20220210-06oc-063kHz.csv\n",
      "20220210-06oc-064kHz.csv\n",
      "20220210-06oc-065kHz.csv\n",
      "20220210-06oc-066kHz.csv\n",
      "20220210-06oc-067kHz.csv\n",
      "20220210-06oc-068kHz.csv\n",
      "20220210-06oc-069kHz.csv\n",
      "20220210-06oc-070kHz.csv\n",
      "20220210-06oc-071kHz.csv\n",
      "20220210-06oc-072kHz.csv\n",
      "20220210-06oc-073kHz.csv\n",
      "20220210-06oc-074kHz.csv\n",
      "20220210-06oc-075kHz.csv\n",
      "20220210-06oc-076kHz.csv\n",
      "20220210-06oc-077kHz.csv\n",
      "20220210-06oc-078kHz.csv\n",
      "20220210-06oc-079kHz.csv\n",
      "20220210-06oc-080kHz.csv\n",
      "20220210-07oc-040kHz.csv\n",
      "20220210-07oc-041kHz.csv\n",
      "20220210-07oc-042kHz.csv\n",
      "20220210-07oc-043kHz.csv\n",
      "20220210-07oc-044kHz.csv\n",
      "20220210-07oc-045kHz.csv\n",
      "20220210-07oc-046kHz.csv\n",
      "20220210-07oc-047kHz.csv\n",
      "20220210-07oc-048kHz.csv\n",
      "20220210-07oc-049kHz.csv\n",
      "20220210-07oc-050kHz.csv\n",
      "20220210-07oc-051kHz.csv\n",
      "20220210-07oc-052kHz.csv\n",
      "20220210-07oc-053kHz.csv\n",
      "20220210-07oc-054kHz.csv\n",
      "20220210-07oc-055kHz.csv\n",
      "20220210-07oc-056kHz.csv\n",
      "20220210-07oc-057kHz.csv\n",
      "20220210-07oc-058kHz.csv\n",
      "20220210-07oc-059kHz.csv\n",
      "20220210-07oc-060kHz.csv\n",
      "20220210-07oc-061kHz.csv\n",
      "20220210-07oc-062kHz.csv\n",
      "20220210-07oc-063kHz.csv\n",
      "20220210-07oc-064kHz.csv\n",
      "20220210-07oc-065kHz.csv\n",
      "20220210-07oc-066kHz.csv\n",
      "20220210-07oc-067kHz.csv\n",
      "20220210-07oc-068kHz.csv\n",
      "20220210-07oc-069kHz.csv\n",
      "20220210-07oc-070kHz.csv\n",
      "20220210-07oc-071kHz.csv\n",
      "20220210-07oc-072kHz.csv\n",
      "20220210-07oc-073kHz.csv\n",
      "20220210-07oc-074kHz.csv\n",
      "20220210-07oc-075kHz.csv\n",
      "20220210-07oc-076kHz.csv\n",
      "20220210-07oc-077kHz.csv\n",
      "20220210-07oc-078kHz.csv\n",
      "20220210-07oc-079kHz.csv\n",
      "20220210-07oc-080kHz.csv\n",
      "20220210-08oc-040kHz.csv\n",
      "20220210-08oc-041kHz.csv\n",
      "20220210-08oc-042kHz.csv\n",
      "20220210-08oc-043kHz.csv\n",
      "20220210-08oc-044kHz.csv\n",
      "20220210-08oc-045kHz.csv\n",
      "20220210-08oc-046kHz.csv\n",
      "20220210-08oc-047kHz.csv\n",
      "20220210-08oc-048kHz.csv\n",
      "20220210-08oc-049kHz.csv\n",
      "20220210-08oc-050kHz.csv\n",
      "20220210-08oc-051kHz.csv\n",
      "20220210-08oc-052kHz.csv\n",
      "20220210-08oc-053kHz.csv\n",
      "20220210-08oc-054kHz.csv\n",
      "20220210-08oc-055kHz.csv\n",
      "20220210-08oc-056kHz.csv\n",
      "20220210-08oc-057kHz.csv\n",
      "20220210-08oc-058kHz.csv\n",
      "20220210-08oc-059kHz.csv\n",
      "20220210-08oc-060kHz.csv\n",
      "20220210-08oc-061kHz.csv\n",
      "20220210-08oc-062kHz.csv\n",
      "20220210-08oc-063kHz.csv\n",
      "20220210-08oc-064kHz.csv\n",
      "20220210-08oc-065kHz.csv\n",
      "20220210-08oc-066kHz.csv\n",
      "20220210-08oc-067kHz.csv\n",
      "20220210-08oc-068kHz.csv\n",
      "20220210-08oc-069kHz.csv\n",
      "20220210-08oc-070kHz.csv\n",
      "20220210-08oc-071kHz.csv\n",
      "20220210-08oc-072kHz.csv\n",
      "20220210-08oc-073kHz.csv\n",
      "20220210-08oc-074kHz.csv\n",
      "20220210-08oc-075kHz.csv\n",
      "20220210-08oc-076kHz.csv\n",
      "20220210-08oc-077kHz.csv\n",
      "20220210-08oc-078kHz.csv\n",
      "20220210-08oc-079kHz.csv\n",
      "20220210-08oc-080kHz.csv\n",
      "20220210-09oc-040kHz.csv\n",
      "20220210-09oc-041kHz.csv\n",
      "20220210-09oc-042kHz.csv\n",
      "20220210-09oc-043kHz.csv\n",
      "20220210-09oc-044kHz.csv\n",
      "20220210-09oc-045kHz.csv\n",
      "20220210-09oc-046kHz.csv\n",
      "20220210-09oc-047kHz.csv\n",
      "20220210-09oc-048kHz.csv\n",
      "20220210-09oc-049kHz.csv\n",
      "20220210-09oc-050kHz.csv\n",
      "20220210-09oc-051kHz.csv\n",
      "20220210-09oc-052kHz.csv\n",
      "20220210-09oc-053kHz.csv\n",
      "20220210-09oc-054kHz.csv\n",
      "20220210-09oc-055kHz.csv\n",
      "20220210-09oc-056kHz.csv\n",
      "20220210-09oc-057kHz.csv\n",
      "20220210-09oc-058kHz.csv\n",
      "20220210-09oc-059kHz.csv\n",
      "20220210-09oc-060kHz.csv\n",
      "20220210-09oc-061kHz.csv\n",
      "20220210-09oc-062kHz.csv\n",
      "20220210-09oc-063kHz.csv\n",
      "20220210-09oc-064kHz.csv\n",
      "20220210-09oc-065kHz.csv\n",
      "20220210-09oc-066kHz.csv\n",
      "20220210-09oc-067kHz.csv\n",
      "20220210-09oc-068kHz.csv\n",
      "20220210-09oc-069kHz.csv\n",
      "20220210-09oc-070kHz.csv\n",
      "20220210-09oc-071kHz.csv\n",
      "20220210-09oc-072kHz.csv\n",
      "20220210-09oc-073kHz.csv\n",
      "20220210-09oc-074kHz.csv\n",
      "20220210-09oc-075kHz.csv\n",
      "20220210-09oc-076kHz.csv\n",
      "20220210-09oc-077kHz.csv\n",
      "20220210-09oc-078kHz.csv\n",
      "20220210-09oc-079kHz.csv\n",
      "20220210-09oc-080kHz.csv\n",
      "20220210-10oc-040kHz.csv\n",
      "20220210-10oc-041kHz.csv\n",
      "20220210-10oc-042kHz.csv\n",
      "20220210-10oc-043kHz.csv\n",
      "20220210-10oc-044kHz.csv\n",
      "20220210-10oc-045kHz.csv\n",
      "20220210-10oc-046kHz.csv\n",
      "20220210-10oc-047kHz.csv\n",
      "20220210-10oc-048kHz.csv\n",
      "20220210-10oc-049kHz.csv\n",
      "20220210-10oc-050kHz.csv\n",
      "20220210-10oc-051kHz.csv\n",
      "20220210-10oc-052kHz.csv\n",
      "20220210-10oc-053kHz.csv\n",
      "20220210-10oc-054kHz.csv\n",
      "20220210-10oc-055kHz.csv\n",
      "20220210-10oc-056kHz.csv\n",
      "20220210-10oc-057kHz.csv\n",
      "20220210-10oc-058kHz.csv\n",
      "20220210-10oc-059kHz.csv\n",
      "20220210-10oc-060kHz.csv\n",
      "20220210-10oc-061kHz.csv\n",
      "20220210-10oc-062kHz.csv\n",
      "20220210-10oc-063kHz.csv\n",
      "20220210-10oc-064kHz.csv\n",
      "20220210-10oc-065kHz.csv\n",
      "20220210-10oc-066kHz.csv\n",
      "20220210-10oc-067kHz.csv\n",
      "20220210-10oc-068kHz.csv\n",
      "20220210-10oc-069kHz.csv\n",
      "20220210-10oc-070kHz.csv\n",
      "20220210-10oc-071kHz.csv\n",
      "20220210-10oc-072kHz.csv\n",
      "20220210-10oc-073kHz.csv\n",
      "20220210-10oc-074kHz.csv\n",
      "20220210-10oc-075kHz.csv\n",
      "20220210-10oc-076kHz.csv\n",
      "20220210-10oc-077kHz.csv\n",
      "20220210-10oc-078kHz.csv\n",
      "20220210-10oc-079kHz.csv\n",
      "20220210-10oc-080kHz.csv\n",
      "20220210-11oc-040kHz.csv\n",
      "20220210-11oc-041kHz.csv\n",
      "20220210-11oc-042kHz.csv\n",
      "20220210-11oc-043kHz.csv\n",
      "20220210-11oc-044kHz.csv\n",
      "20220210-11oc-045kHz.csv\n",
      "20220210-11oc-046kHz.csv\n",
      "20220210-11oc-047kHz.csv\n",
      "20220210-11oc-048kHz.csv\n",
      "20220210-11oc-049kHz.csv\n",
      "20220210-11oc-050kHz.csv\n",
      "20220210-11oc-051kHz.csv\n",
      "20220210-11oc-052kHz.csv\n",
      "20220210-11oc-053kHz.csv\n",
      "20220210-11oc-054kHz.csv\n",
      "20220210-11oc-055kHz.csv\n",
      "20220210-11oc-056kHz.csv\n",
      "20220210-11oc-057kHz.csv\n",
      "20220210-11oc-058kHz.csv\n",
      "20220210-11oc-059kHz.csv\n",
      "20220210-11oc-060kHz.csv\n",
      "20220210-11oc-061kHz.csv\n",
      "20220210-11oc-062kHz.csv\n",
      "20220210-11oc-063kHz.csv\n",
      "20220210-11oc-064kHz.csv\n",
      "20220210-11oc-065kHz.csv\n",
      "20220210-11oc-066kHz.csv\n",
      "20220210-11oc-067kHz.csv\n",
      "20220210-11oc-068kHz.csv\n",
      "20220210-11oc-069kHz.csv\n",
      "20220210-11oc-070kHz.csv\n",
      "20220210-11oc-071kHz.csv\n",
      "20220210-11oc-072kHz.csv\n",
      "20220210-11oc-073kHz.csv\n",
      "20220210-11oc-074kHz.csv\n",
      "20220210-11oc-075kHz.csv\n",
      "20220210-11oc-076kHz.csv\n",
      "20220210-11oc-077kHz.csv\n",
      "20220210-11oc-078kHz.csv\n",
      "20220210-11oc-079kHz.csv\n",
      "20220210-11oc-080kHz.csv\n",
      "20220210-source-040kHz.csv\n",
      "20220210-source-041kHz.csv\n",
      "20220210-source-042kHz.csv\n",
      "20220210-source-043kHz.csv\n",
      "20220210-source-044kHz.csv\n",
      "20220210-source-045kHz.csv\n",
      "20220210-source-046kHz.csv\n",
      "20220210-source-047kHz.csv\n",
      "20220210-source-048kHz.csv\n",
      "20220210-source-049kHz.csv\n",
      "20220210-source-050kHz.csv\n",
      "20220210-source-051kHz.csv\n",
      "20220210-source-052kHz.csv\n",
      "20220210-source-053kHz.csv\n",
      "20220210-source-054kHz.csv\n",
      "20220210-source-055kHz.csv\n",
      "20220210-source-056kHz.csv\n",
      "20220210-source-057kHz.csv\n",
      "20220210-source-058kHz.csv\n",
      "20220210-source-059kHz.csv\n",
      "20220210-source-060kHz.csv\n",
      "20220210-source-061kHz.csv\n",
      "20220210-source-062kHz.csv\n",
      "20220210-source-063kHz.csv\n",
      "20220210-source-064kHz.csv\n",
      "20220210-source-065kHz.csv\n",
      "20220210-source-066kHz.csv\n",
      "20220210-source-067kHz.csv\n",
      "20220210-source-068kHz.csv\n",
      "20220210-source-069kHz.csv\n",
      "20220210-source-070kHz.csv\n",
      "20220210-source-071kHz.csv\n",
      "20220210-source-072kHz.csv\n",
      "20220210-source-073kHz.csv\n",
      "20220210-source-074kHz.csv\n",
      "20220210-source-075kHz.csv\n",
      "20220210-source-076kHz.csv\n",
      "20220210-source-077kHz.csv\n",
      "20220210-source-078kHz.csv\n",
      "20220210-source-079kHz.csv\n",
      "20220210-source-080kHz.csv\n"
     ]
    }
   ],
   "source": [
    "df_waveforms, df_time = read_data.read_waveforms(realdatapath)"
   ],
   "metadata": {
    "collapsed": false,
    "pycharm": {
     "name": "#%%\n"
    }
   }
  },
  {
   "cell_type": "code",
   "execution_count": 25,
   "outputs": [],
   "source": [
    "labels = pd.read_csv(Path().joinpath('..', 'data', 'input_simulated', 'labels_rot.csv'))"
   ],
   "metadata": {
    "collapsed": false,
    "pycharm": {
     "name": "#%%\n"
    }
   }
  },
  {
   "cell_type": "code",
   "execution_count": 26,
   "outputs": [
    {
     "data": {
      "text/plain": "                      modelname  thickness  seed  depression  pitting  \\\n560   model_t034_s101_d000_p002         34   101           0        2   \n561   model_t034_s101_d000_p004         34   101           0        4   \n562   model_t034_s101_d000_p006         34   101           0        6   \n563   model_t034_s101_d000_p008         34   101           0        8   \n564   model_t034_s101_d000_p010         34   101           0       10   \n...                         ...        ...   ...         ...      ...   \n1115  model_t034_s116_d024_p002         34   116          24        2   \n1116  model_t034_s116_d024_p004         34   116          24        4   \n1117  model_t034_s116_d024_p006         34   116          24        6   \n1118  model_t034_s116_d024_p008         34   116          24        8   \n1119  model_t034_s116_d024_p010         34   116          24       10   \n\n      depression_mu  depression_sigma  thickness_max  thickness_min  \\\n560     1756.336829        278.267035             34             32   \n561     1756.336829        278.267035             34             30   \n562     1756.336829        278.267035             34             28   \n563     1756.336829        278.267035             34             26   \n564     1756.336829        278.267035             34             24   \n...             ...               ...            ...            ...   \n1115    1512.291398        189.482963             34              8   \n1116    1512.291398        189.482963             34              6   \n1117    1512.291398        189.482963             34              5   \n1118    1512.291398        189.482963             34              5   \n1119    1512.291398        189.482963             34              5   \n\n      thickness_mean  thickness_median  thickness_std  thickness_var  \n560        33.019387              33.0       0.726130       0.527265  \n561        32.348958              32.0       1.172423       1.374575  \n562        32.071759              32.0       1.447009       2.093836  \n563        31.997975              32.0       1.554321       2.415915  \n564        31.970775              32.0       1.612187       2.599146  \n...              ...               ...            ...            ...  \n1115       29.716725              33.0       6.799712      46.236085  \n1116       29.069734              32.0       6.841818      46.810476  \n1117       28.725116              31.0       6.901768      47.634402  \n1118       28.568866              31.0       6.943093      48.206544  \n1119       28.502315              31.0       6.963331      48.487983  \n\n[560 rows x 13 columns]",
      "text/html": "<div>\n<style scoped>\n    .dataframe tbody tr th:only-of-type {\n        vertical-align: middle;\n    }\n\n    .dataframe tbody tr th {\n        vertical-align: top;\n    }\n\n    .dataframe thead th {\n        text-align: right;\n    }\n</style>\n<table border=\"1\" class=\"dataframe\">\n  <thead>\n    <tr style=\"text-align: right;\">\n      <th></th>\n      <th>modelname</th>\n      <th>thickness</th>\n      <th>seed</th>\n      <th>depression</th>\n      <th>pitting</th>\n      <th>depression_mu</th>\n      <th>depression_sigma</th>\n      <th>thickness_max</th>\n      <th>thickness_min</th>\n      <th>thickness_mean</th>\n      <th>thickness_median</th>\n      <th>thickness_std</th>\n      <th>thickness_var</th>\n    </tr>\n  </thead>\n  <tbody>\n    <tr>\n      <th>560</th>\n      <td>model_t034_s101_d000_p002</td>\n      <td>34</td>\n      <td>101</td>\n      <td>0</td>\n      <td>2</td>\n      <td>1756.336829</td>\n      <td>278.267035</td>\n      <td>34</td>\n      <td>32</td>\n      <td>33.019387</td>\n      <td>33.0</td>\n      <td>0.726130</td>\n      <td>0.527265</td>\n    </tr>\n    <tr>\n      <th>561</th>\n      <td>model_t034_s101_d000_p004</td>\n      <td>34</td>\n      <td>101</td>\n      <td>0</td>\n      <td>4</td>\n      <td>1756.336829</td>\n      <td>278.267035</td>\n      <td>34</td>\n      <td>30</td>\n      <td>32.348958</td>\n      <td>32.0</td>\n      <td>1.172423</td>\n      <td>1.374575</td>\n    </tr>\n    <tr>\n      <th>562</th>\n      <td>model_t034_s101_d000_p006</td>\n      <td>34</td>\n      <td>101</td>\n      <td>0</td>\n      <td>6</td>\n      <td>1756.336829</td>\n      <td>278.267035</td>\n      <td>34</td>\n      <td>28</td>\n      <td>32.071759</td>\n      <td>32.0</td>\n      <td>1.447009</td>\n      <td>2.093836</td>\n    </tr>\n    <tr>\n      <th>563</th>\n      <td>model_t034_s101_d000_p008</td>\n      <td>34</td>\n      <td>101</td>\n      <td>0</td>\n      <td>8</td>\n      <td>1756.336829</td>\n      <td>278.267035</td>\n      <td>34</td>\n      <td>26</td>\n      <td>31.997975</td>\n      <td>32.0</td>\n      <td>1.554321</td>\n      <td>2.415915</td>\n    </tr>\n    <tr>\n      <th>564</th>\n      <td>model_t034_s101_d000_p010</td>\n      <td>34</td>\n      <td>101</td>\n      <td>0</td>\n      <td>10</td>\n      <td>1756.336829</td>\n      <td>278.267035</td>\n      <td>34</td>\n      <td>24</td>\n      <td>31.970775</td>\n      <td>32.0</td>\n      <td>1.612187</td>\n      <td>2.599146</td>\n    </tr>\n    <tr>\n      <th>...</th>\n      <td>...</td>\n      <td>...</td>\n      <td>...</td>\n      <td>...</td>\n      <td>...</td>\n      <td>...</td>\n      <td>...</td>\n      <td>...</td>\n      <td>...</td>\n      <td>...</td>\n      <td>...</td>\n      <td>...</td>\n      <td>...</td>\n    </tr>\n    <tr>\n      <th>1115</th>\n      <td>model_t034_s116_d024_p002</td>\n      <td>34</td>\n      <td>116</td>\n      <td>24</td>\n      <td>2</td>\n      <td>1512.291398</td>\n      <td>189.482963</td>\n      <td>34</td>\n      <td>8</td>\n      <td>29.716725</td>\n      <td>33.0</td>\n      <td>6.799712</td>\n      <td>46.236085</td>\n    </tr>\n    <tr>\n      <th>1116</th>\n      <td>model_t034_s116_d024_p004</td>\n      <td>34</td>\n      <td>116</td>\n      <td>24</td>\n      <td>4</td>\n      <td>1512.291398</td>\n      <td>189.482963</td>\n      <td>34</td>\n      <td>6</td>\n      <td>29.069734</td>\n      <td>32.0</td>\n      <td>6.841818</td>\n      <td>46.810476</td>\n    </tr>\n    <tr>\n      <th>1117</th>\n      <td>model_t034_s116_d024_p006</td>\n      <td>34</td>\n      <td>116</td>\n      <td>24</td>\n      <td>6</td>\n      <td>1512.291398</td>\n      <td>189.482963</td>\n      <td>34</td>\n      <td>5</td>\n      <td>28.725116</td>\n      <td>31.0</td>\n      <td>6.901768</td>\n      <td>47.634402</td>\n    </tr>\n    <tr>\n      <th>1118</th>\n      <td>model_t034_s116_d024_p008</td>\n      <td>34</td>\n      <td>116</td>\n      <td>24</td>\n      <td>8</td>\n      <td>1512.291398</td>\n      <td>189.482963</td>\n      <td>34</td>\n      <td>5</td>\n      <td>28.568866</td>\n      <td>31.0</td>\n      <td>6.943093</td>\n      <td>48.206544</td>\n    </tr>\n    <tr>\n      <th>1119</th>\n      <td>model_t034_s116_d024_p010</td>\n      <td>34</td>\n      <td>116</td>\n      <td>24</td>\n      <td>10</td>\n      <td>1512.291398</td>\n      <td>189.482963</td>\n      <td>34</td>\n      <td>5</td>\n      <td>28.502315</td>\n      <td>31.0</td>\n      <td>6.963331</td>\n      <td>48.487983</td>\n    </tr>\n  </tbody>\n</table>\n<p>560 rows × 13 columns</p>\n</div>"
     },
     "execution_count": 26,
     "metadata": {},
     "output_type": "execute_result"
    }
   ],
   "source": [
    "labels[labels['thickness'] == 34]"
   ],
   "metadata": {
    "collapsed": false,
    "pycharm": {
     "name": "#%%\n"
    }
   }
  },
  {
   "cell_type": "code",
   "execution_count": 27,
   "outputs": [
    {
     "data": {
      "text/plain": "(1, 13, 750)"
     },
     "execution_count": 27,
     "metadata": {},
     "output_type": "execute_result"
    }
   ],
   "source": [
    "X.shape"
   ],
   "metadata": {
    "collapsed": false,
    "pycharm": {
     "name": "#%%\n"
    }
   }
  },
  {
   "cell_type": "code",
   "execution_count": 30,
   "outputs": [
    {
     "data": {
      "text/plain": "<Figure size 864x720 with 2 Axes>",
      "image/png": "[encoded data removed]"
     },
     "metadata": {},
     "output_type": "display_data"
    }
   ],
   "source": [
    "freq = '060kHz'\n",
    "sns.set_style(\"white\")\n",
    "plt.figure(figsize=(12,10))\n",
    "plt.subplot(1,2,1)\n",
    "plt.pcolor(df_waveforms[freq].to_numpy()[900:4660:5,:-1], cmap='gray')\n",
    "plt.gca().invert_yaxis()\n",
    "plt.title('real ' + str(freq))\n",
    "#plt.colorbar()\n",
    "plt.clim(-0.2, 0.2)\n",
    "plt.subplot(1,2,2)\n",
    "\n",
    "plt.pcolor(X[0,1:12,:].T, cmap='gray')\n",
    "plt.gca().invert_yaxis()\n",
    "plt.title('synthetic')\n",
    "\n",
    "plt.show()"
   ],
   "metadata": {
    "collapsed": false,
    "pycharm": {
     "name": "#%%\n"
    }
   }
  }
 ],
 "metadata": {
  "kernelspec": {
   "display_name": "Python 3",
   "language": "python",
   "name": "python3"
  },
  "language_info": {
   "codemirror_mode": {
    "name": "ipython",
    "version": 2
   },
   "file_extension": ".py",
   "mimetype": "text/x-python",
   "name": "python",
   "nbconvert_exporter": "python",
   "pygments_lexer": "ipython2",
   "version": "2.7.6"
  }
 },
 "nbformat": 4,
 "nbformat_minor": 0
}